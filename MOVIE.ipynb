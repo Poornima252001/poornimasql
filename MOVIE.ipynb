{
 "cells": [
  {
   "cell_type": "code",
   "execution_count": 2,
   "source": [
    "%load_ext sql"
   ],
   "outputs": [],
   "metadata": {}
  },
  {
   "cell_type": "code",
   "execution_count": 3,
   "source": [
    "%sql sqlite:///data/movies.db3"
   ],
   "outputs": [],
   "metadata": {}
  },
  {
   "cell_type": "code",
   "execution_count": 3,
   "source": [
    "%%sql sqlite://\r\n",
    "CREATE TABLE Movie(\r\n",
    "    Movie Name VARCHAR(50) NOT NULL,\r\n",
    "    actor VARCHAR(50) NOT NULL, \r\n",
    "    director Name VARCHAR(50) NOT NULL,\r\n",
    "    actress VARCHAR(50) NOT NULL,\r\n",
    "    year int(4) NOT NULL,\r\n",
    "    USERID int  NOT NULL UNIQUE, \r\n",
    "    PRIMARY KEY (USERID)\r\n",
    ");"
   ],
   "outputs": [
    {
     "output_type": "stream",
     "name": "stdout",
     "text": [
      "Done.\n"
     ]
    },
    {
     "output_type": "execute_result",
     "data": {
      "text/plain": [
       "[]"
      ]
     },
     "metadata": {},
     "execution_count": 3
    }
   ],
   "metadata": {}
  },
  {
   "cell_type": "code",
   "execution_count": 6,
   "source": [
    "%%sql sqlite://\r\n",
    "INSERT INTO Movie VALUES ('Sparsha', 'SUDEEP','SunilKumarDesai', 'Rekha',2000,1 );\r\n",
    "INSERT INTO Movie VALUES ('Prathyartha', 'SUDEEP','Sunil Kumar Desai', 'Rekha',1999,2);\r\n",
    "INSERT INTO Movie VALUES ('Vaalee', 'SUDEEP','Mahendar', 'sinchana',2002,3);\r\n",
    "INSERT INTO Movie VALUES ('Yada Yada Hi Dharmasya', 'vijay','Viraj', 'shava',2019,4);"
   ],
   "outputs": [
    {
     "output_type": "stream",
     "name": "stdout",
     "text": [
      "1 rows affected.\n",
      "1 rows affected.\n",
      "1 rows affected.\n",
      "1 rows affected.\n"
     ]
    },
    {
     "output_type": "execute_result",
     "data": {
      "text/plain": [
       "[]"
      ]
     },
     "metadata": {},
     "execution_count": 6
    }
   ],
   "metadata": {}
  },
  {
   "cell_type": "code",
   "execution_count": 8,
   "source": [
    "sqlres = %sql SELECT * from Movie\r\n",
    "sqlres"
   ],
   "outputs": [
    {
     "output_type": "stream",
     "name": "stdout",
     "text": [
      " * sqlite://\n",
      "Done.\n"
     ]
    },
    {
     "output_type": "execute_result",
     "data": {
      "text/html": [
       "<table>\n",
       "    <tr>\n",
       "        <th>Movie</th>\n",
       "        <th>actor</th>\n",
       "        <th>director</th>\n",
       "        <th>actress</th>\n",
       "        <th>year</th>\n",
       "        <th>USERID</th>\n",
       "    </tr>\n",
       "    <tr>\n",
       "        <td>Sparsha</td>\n",
       "        <td>SUDEEP</td>\n",
       "        <td>SunilKumarDesai</td>\n",
       "        <td>Rekha</td>\n",
       "        <td>2000</td>\n",
       "        <td>1</td>\n",
       "    </tr>\n",
       "    <tr>\n",
       "        <td>Prathyartha</td>\n",
       "        <td>SUDEEP</td>\n",
       "        <td>Sunil Kumar Desai</td>\n",
       "        <td>Rekha</td>\n",
       "        <td>1999</td>\n",
       "        <td>2</td>\n",
       "    </tr>\n",
       "    <tr>\n",
       "        <td>Vaalee</td>\n",
       "        <td>SUDEEP</td>\n",
       "        <td>Mahendar</td>\n",
       "        <td>sinchana</td>\n",
       "        <td>2002</td>\n",
       "        <td>3</td>\n",
       "    </tr>\n",
       "    <tr>\n",
       "        <td>Yada Yada Hi Dharmasya</td>\n",
       "        <td>vijay</td>\n",
       "        <td>Viraj</td>\n",
       "        <td>shava</td>\n",
       "        <td>2019</td>\n",
       "        <td>4</td>\n",
       "    </tr>\n",
       "</table>"
      ],
      "text/plain": [
       "[('Sparsha', 'SUDEEP', 'SunilKumarDesai', 'Rekha', 2000, 1),\n",
       " ('Prathyartha', 'SUDEEP', 'Sunil Kumar Desai', 'Rekha', 1999, 2),\n",
       " ('Vaalee', 'SUDEEP', 'Mahendar', 'sinchana', 2002, 3),\n",
       " ('Yada Yada Hi Dharmasya', 'vijay', 'Viraj', 'shava', 2019, 4)]"
      ]
     },
     "metadata": {},
     "execution_count": 8
    }
   ],
   "metadata": {}
  },
  {
   "cell_type": "code",
   "execution_count": 9,
   "source": [
    "sqlres = %sql SELECT movie from Movie\r\n",
    "sqlres"
   ],
   "outputs": [
    {
     "output_type": "stream",
     "name": "stdout",
     "text": [
      " * sqlite://\n",
      "Done.\n"
     ]
    },
    {
     "output_type": "execute_result",
     "data": {
      "text/html": [
       "<table>\n",
       "    <tr>\n",
       "        <th>Movie</th>\n",
       "    </tr>\n",
       "    <tr>\n",
       "        <td>Sparsha</td>\n",
       "    </tr>\n",
       "    <tr>\n",
       "        <td>Prathyartha</td>\n",
       "    </tr>\n",
       "    <tr>\n",
       "        <td>Vaalee</td>\n",
       "    </tr>\n",
       "    <tr>\n",
       "        <td>Yada Yada Hi Dharmasya</td>\n",
       "    </tr>\n",
       "</table>"
      ],
      "text/plain": [
       "[('Sparsha',), ('Prathyartha',), ('Vaalee',), ('Yada Yada Hi Dharmasya',)]"
      ]
     },
     "metadata": {},
     "execution_count": 9
    }
   ],
   "metadata": {}
  },
  {
   "cell_type": "code",
   "execution_count": 10,
   "source": [
    "%sql select * from movie where actor='SUDEEP'"
   ],
   "outputs": [
    {
     "output_type": "stream",
     "name": "stdout",
     "text": [
      " * sqlite://\n",
      "Done.\n"
     ]
    },
    {
     "output_type": "execute_result",
     "data": {
      "text/html": [
       "<table>\n",
       "    <tr>\n",
       "        <th>Movie</th>\n",
       "        <th>actor</th>\n",
       "        <th>director</th>\n",
       "        <th>actress</th>\n",
       "        <th>year</th>\n",
       "        <th>USERID</th>\n",
       "    </tr>\n",
       "    <tr>\n",
       "        <td>Sparsha</td>\n",
       "        <td>SUDEEP</td>\n",
       "        <td>SunilKumarDesai</td>\n",
       "        <td>Rekha</td>\n",
       "        <td>2000</td>\n",
       "        <td>1</td>\n",
       "    </tr>\n",
       "    <tr>\n",
       "        <td>Prathyartha</td>\n",
       "        <td>SUDEEP</td>\n",
       "        <td>Sunil Kumar Desai</td>\n",
       "        <td>Rekha</td>\n",
       "        <td>1999</td>\n",
       "        <td>2</td>\n",
       "    </tr>\n",
       "    <tr>\n",
       "        <td>Vaalee</td>\n",
       "        <td>SUDEEP</td>\n",
       "        <td>Mahendar</td>\n",
       "        <td>sinchana</td>\n",
       "        <td>2002</td>\n",
       "        <td>3</td>\n",
       "    </tr>\n",
       "</table>"
      ],
      "text/plain": [
       "[('Sparsha', 'SUDEEP', 'SunilKumarDesai', 'Rekha', 2000, 1),\n",
       " ('Prathyartha', 'SUDEEP', 'Sunil Kumar Desai', 'Rekha', 1999, 2),\n",
       " ('Vaalee', 'SUDEEP', 'Mahendar', 'sinchana', 2002, 3)]"
      ]
     },
     "metadata": {},
     "execution_count": 10
    }
   ],
   "metadata": {}
  },
  {
   "cell_type": "code",
   "execution_count": null,
   "source": [],
   "outputs": [],
   "metadata": {}
  }
 ],
 "metadata": {
  "anaconda-cloud": {},
  "kernelspec": {
   "display_name": "Python 3",
   "language": "python",
   "name": "python3"
  },
  "language_info": {
   "codemirror_mode": {
    "name": "ipython",
    "version": 3
   },
   "file_extension": ".py",
   "mimetype": "text/x-python",
   "name": "python",
   "nbconvert_exporter": "python",
   "pygments_lexer": "ipython3",
   "version": "3.8.5"
  }
 },
 "nbformat": 4,
 "nbformat_minor": 2
}